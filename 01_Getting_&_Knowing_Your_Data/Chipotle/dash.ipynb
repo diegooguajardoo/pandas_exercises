{
 "cells": [
  {
   "cell_type": "code",
   "execution_count": 1,
   "metadata": {},
   "outputs": [
    {
     "data": {
      "text/plain": [
       "item_name\n",
       "Carnitas Salad                             1\n",
       "Veggie Crispy Tacos                        1\n",
       "Chips and Mild Fresh Tomato Salsa          1\n",
       "Crispy Tacos                               2\n",
       "Bowl                                       2\n",
       "Salad                                      2\n",
       "Steak Salad                                4\n",
       "Veggie Salad                               6\n",
       "Carnitas Salad Bowl                        6\n",
       "Burrito                                    6\n",
       "Carnitas Crispy Tacos                      7\n",
       "Veggie Soft Tacos                          7\n",
       "Chicken Salad                              9\n",
       "Barbacoa Salad Bowl                       10\n",
       "Barbacoa Crispy Tacos                     11\n",
       "Veggie Salad Bowl                         18\n",
       "Chips and Roasted Chili-Corn Salsa        18\n",
       "Izze                                      20\n",
       "Chips and Tomatillo-Red Chili Salsa       20\n",
       "Chips and Roasted Chili Corn Salsa        22\n",
       "Barbacoa Soft Tacos                       25\n",
       "Nantucket Nectar                          27\n",
       "Steak Salad Bowl                          29\n",
       "Chips and Tomatillo-Green Chili Salsa     31\n",
       "Steak Crispy Tacos                        35\n",
       "Carnitas Soft Tacos                       40\n",
       "Chips and Tomatillo Green Chili Salsa     43\n",
       "Chicken Crispy Tacos                      47\n",
       "Chips and Tomatillo Red Chili Salsa       48\n",
       "6 Pack Soft Drink                         54\n",
       "Steak Soft Tacos                          55\n",
       "Carnitas Burrito                          59\n",
       "Barbacoa Bowl                             66\n",
       "Carnitas Bowl                             68\n",
       "Veggie Bowl                               85\n",
       "Barbacoa Burrito                          91\n",
       "Veggie Burrito                            95\n",
       "Side of Chips                            101\n",
       "Canned Soda                              104\n",
       "Chips and Fresh Tomato Salsa             110\n",
       "Chicken Salad Bowl                       110\n",
       "Chicken Soft Tacos                       115\n",
       "Bottled Water                            162\n",
       "Chips                                    211\n",
       "Steak Bowl                               211\n",
       "Canned Soft Drink                        301\n",
       "Steak Burrito                            368\n",
       "Chips and Guacamole                      479\n",
       "Chicken Burrito                          553\n",
       "Chicken Bowl                             726\n",
       "Name: item_price, dtype: int64"
      ]
     },
     "execution_count": 1,
     "metadata": {},
     "output_type": "execute_result"
    }
   ],
   "source": [
    "# Import packages\n",
    "from dash import Dash, html, dash_table\n",
    "import pandas as pd\n",
    "\n",
    "url = \"/Users/diegoo.guajardoo/Documents/Visual Studio Code/Python VS/Public Data Science/Pandas practices/Pandas Excercises guipsamora/pandas_exercises/01_Getting_&_Knowing_Your_Data/Chipotle/chipotle.tsv\"\n",
    "\n",
    "# Incorporate data\n",
    "df = pd.read_csv(url, sep=\"\\t\")\n",
    "df[\"item_price\"] = pd.to_numeric(df[\"item_price\"].str[1:])\n",
    "df.groupby(\"item_name\")[\"item_price\"].count().sort_values()"
   ]
  }
 ],
 "metadata": {
  "kernelspec": {
   "display_name": "Python 3",
   "language": "python",
   "name": "python3"
  },
  "language_info": {
   "codemirror_mode": {
    "name": "ipython",
    "version": 3
   },
   "file_extension": ".py",
   "mimetype": "text/x-python",
   "name": "python",
   "nbconvert_exporter": "python",
   "pygments_lexer": "ipython3",
   "version": "3.10.1"
  },
  "orig_nbformat": 4
 },
 "nbformat": 4,
 "nbformat_minor": 2
}
